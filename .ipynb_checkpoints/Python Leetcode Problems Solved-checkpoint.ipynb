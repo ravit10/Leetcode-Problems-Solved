{
 "cells": [
  {
   "cell_type": "markdown",
   "metadata": {},
   "source": [
    "# Two Sum"
   ]
  },
  {
   "cell_type": "code",
   "execution_count": 64,
   "metadata": {},
   "outputs": [],
   "source": [
    "def twoSum(nums, target):\n",
    "        \"\"\"\n",
    "        :type nums: List[int]\n",
    "        :type target: int\n",
    "        :rtype: List[int]\n",
    "        \"\"\"\n",
    "        # Python empty Dictionary\n",
    "        test = {} \n",
    "        for i in range(len(nums)):\n",
    "            diff = target - nums[i]\n",
    "            if diff in test:\n",
    "                return [test[diff], i]\n",
    "            else:\n",
    "                test[nums[i]] = i"
   ]
  },
  {
   "cell_type": "code",
   "execution_count": 2,
   "metadata": {},
   "outputs": [
    {
     "data": {
      "text/plain": [
       "[0, 3]"
      ]
     },
     "execution_count": 2,
     "metadata": {},
     "output_type": "execute_result"
    }
   ],
   "source": [
    "twoSum([2,11,15,7], 9)"
   ]
  },
  {
   "cell_type": "markdown",
   "metadata": {},
   "source": [
    "# Reverse Integer"
   ]
  },
  {
   "cell_type": "code",
   "execution_count": 65,
   "metadata": {},
   "outputs": [],
   "source": [
    "def reverse(x):\n",
    "        \"\"\"\n",
    "        :type x: int\n",
    "        :rtype: int\n",
    "        \"\"\"\n",
    "        result, sign = 0, 1\n",
    "        if x < 0:\n",
    "            sign = -1\n",
    "            x = abs(x)\n",
    "        \n",
    "        while x != 0:\n",
    "            result = result*10 + (x % 10)\n",
    "            x = x // 10\n",
    "\n",
    "        if result < -2147483648 or result > 2147483647:\n",
    "            return 0\n",
    "        else:\n",
    "            return result * sign"
   ]
  },
  {
   "cell_type": "code",
   "execution_count": 66,
   "metadata": {},
   "outputs": [
    {
     "data": {
      "text/plain": [
       "-7953"
      ]
     },
     "execution_count": 66,
     "metadata": {},
     "output_type": "execute_result"
    }
   ],
   "source": [
    "reverse(-3597)"
   ]
  },
  {
   "cell_type": "markdown",
   "metadata": {},
   "source": [
    "# Palindrome Number"
   ]
  },
  {
   "cell_type": "code",
   "execution_count": 25,
   "metadata": {},
   "outputs": [],
   "source": [
    "def isPalindrome(x):\n",
    "        \"\"\"\n",
    "        :type x: int\n",
    "        :rtype: bool\n",
    "        \"\"\"\n",
    "#         x_str = str(x)\n",
    "#         x_str_digits = x_str.split()\n",
    "#         for i in range(len(x_str_digits)//2):\n",
    "#             if x_str_digits[i] != x_str_digits[len(x_str_digits) - i - 1]:\n",
    "#                 return False\n",
    "#         return True\n",
    "\n",
    "        if x < 0 or type(x) is not int:\n",
    "            return False\n",
    "        else:\n",
    "            reverse = 0\n",
    "            original = x\n",
    "            \n",
    "            while(x != 0):\n",
    "                reverse = reverse*10 + (x%10)\n",
    "                x = x//10\n",
    "            \n",
    "            if reverse == original:\n",
    "                return True\n",
    "            else:\n",
    "                return False"
   ]
  },
  {
   "cell_type": "code",
   "execution_count": 24,
   "metadata": {},
   "outputs": [
    {
     "data": {
      "text/plain": [
       "False"
      ]
     },
     "execution_count": 24,
     "metadata": {},
     "output_type": "execute_result"
    }
   ],
   "source": [
    "isPalindrome(12)"
   ]
  },
  {
   "cell_type": "code",
   "execution_count": 42,
   "metadata": {},
   "outputs": [],
   "source": [
    "def isPalindrome_v2(x):\n",
    "        \"\"\"\n",
    "        :type x: int\n",
    "        :rtype: bool\n",
    "        \"\"\"\n",
    "        return False if x < 0 else int(str(x)[::-1])==x"
   ]
  },
  {
   "cell_type": "code",
   "execution_count": 47,
   "metadata": {},
   "outputs": [
    {
     "data": {
      "text/plain": [
       "False"
      ]
     },
     "execution_count": 47,
     "metadata": {},
     "output_type": "execute_result"
    }
   ],
   "source": [
    "isPalindrome_v2(112)"
   ]
  },
  {
   "cell_type": "markdown",
   "metadata": {},
   "source": [
    "# Roman to Integer"
   ]
  },
  {
   "cell_type": "code",
   "execution_count": 66,
   "metadata": {},
   "outputs": [],
   "source": [
    "def romanToInt(s):\n",
    "        \"\"\"\n",
    "        :type s: str\n",
    "        :rtype: int\n",
    "        \"\"\"\n",
    "        # Python Doctionary\n",
    "        roman_int = {'I':1, 'V':5, 'X':10, 'L':50, 'C':100, 'D':500, 'M':1000}\n",
    "        prev = 'M'\n",
    "        result = 0\n",
    "        for curr in s:\n",
    "            if roman_int[curr] > roman_int[prev]:\n",
    "                result = result - (roman_int[prev]*2)\n",
    "            result = result + roman_int[curr]\n",
    "            prev = curr\n",
    "        return result"
   ]
  },
  {
   "cell_type": "code",
   "execution_count": 68,
   "metadata": {},
   "outputs": [
    {
     "data": {
      "text/plain": [
       "1991"
      ]
     },
     "execution_count": 68,
     "metadata": {},
     "output_type": "execute_result"
    }
   ],
   "source": [
    "romanToInt('MCMXCI')"
   ]
  },
  {
   "cell_type": "markdown",
   "metadata": {},
   "source": [
    "# Pascal's Triangle"
   ]
  },
  {
   "cell_type": "code",
   "execution_count": null,
   "metadata": {},
   "outputs": [],
   "source": [
    "Input: 5\n",
    "Output:\n",
    "[\n",
    "     [1],\n",
    "    [1,1],\n",
    "   [1,2,1],\n",
    "  [1,3,3,1],\n",
    " [1,4,6,4,1]\n",
    "]"
   ]
  },
  {
   "cell_type": "code",
   "execution_count": 75,
   "metadata": {},
   "outputs": [],
   "source": [
    "def generate(numRows):\n",
    "        \"\"\"\n",
    "        :type numRows: int\n",
    "        :rtype: List[List[int]]\n",
    "        \"\"\"\n",
    "        if numRows == 0:\n",
    "            return []\n",
    "        \n",
    "        result = [[1]]\n",
    "        \n",
    "        if numRows >= 2:\n",
    "            for rowIndex in range(1, numRows):\n",
    "                prevRow = result[rowIndex - 1]\n",
    "                currRow = [1] * (rowIndex + 1)\n",
    "                for j in range(1, rowIndex):\n",
    "                    currRow[j] = prevRow[j - 1] + prevRow[j]\n",
    "                result.append(currRow)\n",
    "            \n",
    "        return result"
   ]
  },
  {
   "cell_type": "code",
   "execution_count": 76,
   "metadata": {},
   "outputs": [
    {
     "name": "stdout",
     "output_type": "stream",
     "text": [
      "[[1], [1, 1]]\n"
     ]
    }
   ],
   "source": [
    "print(generate(2))"
   ]
  },
  {
   "cell_type": "markdown",
   "metadata": {},
   "source": [
    "# Pascal's Triangle II"
   ]
  },
  {
   "cell_type": "code",
   "execution_count": 77,
   "metadata": {},
   "outputs": [],
   "source": [
    "def getRow(rowIndex):\n",
    "        \"\"\"\n",
    "        :type rowIndex: int\n",
    "        :rtype: List[int]\n",
    "        \"\"\"\n",
    "        triangle = [[1]]\n",
    "        \n",
    "        for rowInd in range(1, rowIndex + 1):\n",
    "            prevRow = triangle[rowInd - 1]\n",
    "            currRow = [1] * (rowInd + 1)\n",
    "            for j in range(1, rowInd):\n",
    "                currRow[j] = prevRow[j - 1] + prevRow[j]\n",
    "            triangle.append(currRow)\n",
    "            \n",
    "        return triangle[rowIndex]"
   ]
  },
  {
   "cell_type": "code",
   "execution_count": 81,
   "metadata": {},
   "outputs": [
    {
     "name": "stdout",
     "output_type": "stream",
     "text": [
      "[1, 4, 6, 4, 1]\n"
     ]
    }
   ],
   "source": [
    "print(getRow(4))"
   ]
  },
  {
   "cell_type": "markdown",
   "metadata": {},
   "source": [
    "# Valid Parentheses"
   ]
  },
  {
   "cell_type": "code",
   "execution_count": 181,
   "metadata": {},
   "outputs": [],
   "source": [
    "def isValid(s):\n",
    "        \"\"\"\n",
    "        :type s: str\n",
    "        :rtype: bool\n",
    "        \"\"\"\n",
    "        stackList = []\n",
    "        \n",
    "        bracketDict = {'}':'{', ']':'[', ')': '('}\n",
    "        \n",
    "        for char in s:\n",
    "            if char in bracketDict:\n",
    "                top_element = stackList.pop() if stackList else None\n",
    "                if bracketDict[char] !=  top_element:\n",
    "                    return False\n",
    "            else:\n",
    "                stackList.append(char)\n",
    "        \n",
    "        return not stackList"
   ]
  },
  {
   "cell_type": "code",
   "execution_count": 271,
   "metadata": {},
   "outputs": [
    {
     "name": "stdout",
     "output_type": "stream",
     "text": [
      "True\n"
     ]
    }
   ],
   "source": [
    "print(isValid('[[]{}({[]})]'))"
   ]
  },
  {
   "cell_type": "markdown",
   "metadata": {},
   "source": [
    "# Merge Two Sorted Lists\n",
    "(May not be the correct code)"
   ]
  },
  {
   "cell_type": "code",
   "execution_count": null,
   "metadata": {},
   "outputs": [],
   "source": [
    "Input: 1->2->4, 1->3->4\n",
    "Output: 1->1->2->3->4->4"
   ]
  },
  {
   "cell_type": "code",
   "execution_count": 273,
   "metadata": {},
   "outputs": [],
   "source": [
    "# Definition for singly-linked list.\n",
    "class ListNode:\n",
    "    def __init__(self, x):\n",
    "        self.val = x\n",
    "        self.next = None"
   ]
  },
  {
   "cell_type": "code",
   "execution_count": 274,
   "metadata": {},
   "outputs": [],
   "source": [
    "def mergeTwoLists(l1, l2):\n",
    "        \"\"\"\n",
    "        :type l1: ListNode\n",
    "        :type l2: ListNode\n",
    "        :rtype: ListNode\n",
    "        \"\"\"\n",
    "        resultHead = resultList = ListNode(0)\n",
    "        \n",
    "        while l1 and l2:\n",
    "            if l1.val < l2.val:\n",
    "                resultList.next = l1\n",
    "                l1 = l1.next\n",
    "                print('inside l1: ', resultList.val)\n",
    "            else:\n",
    "                resultList.next = l2\n",
    "                l2 = l2.next\n",
    "                print('inside l2: ', resultList.val)\n",
    "            resultList = resultList.next\n",
    "            print('Outside: ', resultList.val)\n",
    "        \n",
    "        resultList = l1 or l2\n",
    "        return resultHead.next"
   ]
  },
  {
   "cell_type": "code",
   "execution_count": 286,
   "metadata": {},
   "outputs": [],
   "source": [
    "# LinkedList 1\n",
    "x1 = ListNode(1)\n",
    "x2 = ListNode(2)\n",
    "x3 = ListNode(4)\n",
    "x1.next = x2\n",
    "x2.next = x3\n",
    "\n",
    "# LinkedList 2\n",
    "y1 = ListNode(1)\n",
    "y2 = ListNode(3)\n",
    "y3 = ListNode(4)\n",
    "y4 = ListNode(6)\n",
    "y5 = ListNode(7)\n",
    "y1.next = y2\n",
    "y2.next = y3\n",
    "y3.next = y4\n",
    "y4.next = y5"
   ]
  },
  {
   "cell_type": "markdown",
   "metadata": {},
   "source": [
    "# Add Two Numbers\n",
    "*"
   ]
  },
  {
   "cell_type": "code",
   "execution_count": null,
   "metadata": {},
   "outputs": [],
   "source": [
    "Input: (2 -> 4 -> 3) + (5 -> 6 -> 4)\n",
    "Output: 7 -> 0 -> 8\n",
    "Explanation: 342 + 465 = 807."
   ]
  },
  {
   "cell_type": "code",
   "execution_count": 2,
   "metadata": {},
   "outputs": [],
   "source": [
    "class ListNode:\n",
    "    def __init__(self, x):\n",
    "        self.val = x\n",
    "        self.next = None"
   ]
  },
  {
   "cell_type": "code",
   "execution_count": 98,
   "metadata": {},
   "outputs": [],
   "source": [
    "class Solution:\n",
    "    def addTwoNumbers(self, l1, l2):\n",
    "        \"\"\"\n",
    "        :type l1: ListNode\n",
    "        :type l2: ListNode\n",
    "        :rtype: ListNode\n",
    "        \"\"\"\n",
    "        list_head = ListNode(0)\n",
    "        curr = list_head\n",
    "        carry = 0\n",
    "        \n",
    "        while l1 or l2:\n",
    "            if l1:\n",
    "                val_l1 = l1.val\n",
    "                l1 = l1.next\n",
    "            if l2:\n",
    "                val_l2 = l2.val\n",
    "                l2 = l2.next\n",
    "                \n",
    "            tempSum = val_l1 + val_l2 + carry\n",
    "            carry = tempSum // 10\n",
    "            \n",
    "            curr.next = ListNode(tempSum % 10)\n",
    "            curr = curr.next\n",
    "            val_l1 = 0\n",
    "            val_l2 = 0\n",
    "            \n",
    "        if carry > 0:\n",
    "            curr.next = ListNode(carry)\n",
    "        \n",
    "        return list_head.next"
   ]
  },
  {
   "cell_type": "code",
   "execution_count": 99,
   "metadata": {},
   "outputs": [],
   "source": [
    "# LinkedList 1\n",
    "x1 = ListNode(2)\n",
    "x2 = ListNode(4)\n",
    "x3 = ListNode(3)\n",
    "x1.next = x2\n",
    "x2.next = x3\n",
    "\n",
    "# LinkedList 2\n",
    "y1 = ListNode(5)\n",
    "y2 = ListNode(6)\n",
    "y3 = ListNode(7)\n",
    "y4 = ListNode(4)\n",
    "y1.next = y2\n",
    "y2.next = y3\n",
    "y3.next = y4"
   ]
  },
  {
   "cell_type": "code",
   "execution_count": 100,
   "metadata": {},
   "outputs": [],
   "source": [
    "obj = Solution()\n",
    "output = obj.addTwoNumbers(x1, y1)"
   ]
  },
  {
   "cell_type": "code",
   "execution_count": 101,
   "metadata": {},
   "outputs": [
    {
     "data": {
      "text/plain": [
       "(7, 0, 1, 5, None)"
      ]
     },
     "execution_count": 101,
     "metadata": {},
     "output_type": "execute_result"
    }
   ],
   "source": [
    "output.val, output.next.val, output.next.next.val, output.next.next.next.val, output.next.next.next.next"
   ]
  },
  {
   "cell_type": "code",
   "execution_count": null,
   "metadata": {},
   "outputs": [],
   "source": []
  }
 ],
 "metadata": {
  "kernelspec": {
   "display_name": "Python 3",
   "language": "python",
   "name": "python3"
  },
  "language_info": {
   "codemirror_mode": {
    "name": "ipython",
    "version": 3
   },
   "file_extension": ".py",
   "mimetype": "text/x-python",
   "name": "python",
   "nbconvert_exporter": "python",
   "pygments_lexer": "ipython3",
   "version": "3.6.4"
  }
 },
 "nbformat": 4,
 "nbformat_minor": 2
}
